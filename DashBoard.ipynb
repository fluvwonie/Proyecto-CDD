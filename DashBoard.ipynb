{
 "cells": [
  {
   "cell_type": "code",
   "execution_count": 3,
   "metadata": {},
   "outputs": [
    {
     "data": {
      "text/html": [
       "\n",
       "        <iframe\n",
       "            width=\"100%\"\n",
       "            height=\"650\"\n",
       "            src=\"http://127.0.0.1:8050/\"\n",
       "            frameborder=\"0\"\n",
       "            allowfullscreen\n",
       "            \n",
       "        ></iframe>\n",
       "        "
      ],
      "text/plain": [
       "<IPython.lib.display.IFrame at 0x23a0b52e8d0>"
      ]
     },
     "metadata": {},
     "output_type": "display_data"
    }
   ],
   "source": [
    "import dash\n",
    "from dash import dcc, html\n",
    "import plotly.express as px\n",
    "import pandas as pd\n",
    "\n",
    "# Cargar los datos\n",
    "  # Asegúrate de que este archivo esté en la misma carpeta\n",
    "data = pd.read_csv('https://raw.githubusercontent.com/fluvwonie/World-/refs/heads/main/prediccion_rendimiento.csv')\n",
    "\n",
    "# Gráfico 1: Distribución de estudiantes por categoría de rendimiento\n",
    "rendimiento_counts = data['Prediccion_Rendimiento'].value_counts()\n",
    "fig_rendimiento = px.bar(\n",
    "    rendimiento_counts,\n",
    "    x=rendimiento_counts.index,\n",
    "    y=rendimiento_counts.values,\n",
    "    labels={'x': 'Categoría de Rendimiento', 'y': 'Número de Estudiantes'},\n",
    "    title='Distribución de Estudiantes por Categoría de Rendimiento',\n",
    ")\n",
    "\n",
    "# Gráfico 2: Boxplots de calificaciones por materia\n",
    "fig_boxplot = px.box(\n",
    "    data, \n",
    "    y=data.columns[5:15], \n",
    "    title='Distribución de Calificaciones por Materia',\n",
    "    labels={'variable': 'Materias', 'value': 'Calificación'}\n",
    ")\n",
    "\n",
    "# Gráfico 3: Histograma del promedio general\n",
    "fig_histograma = px.histogram(\n",
    "    data, \n",
    "    x='Average_Grade', \n",
    "    nbins=20, \n",
    "    title='Distribución del Promedio General',\n",
    "    labels={'Average_Grade': 'Promedio General'},\n",
    ")\n",
    "\n",
    "# Gráfico 4: Relación entre nivel educativo de los padres y rendimiento\n",
    "rendimiento_padres = data.groupby(['Father Degree', 'Prediccion_Rendimiento']).size().unstack()\n",
    "fig_rendimiento_padres = px.bar(\n",
    "    rendimiento_padres,\n",
    "    barmode='stack',\n",
    "    title='Relación entre Nivel Educativo de los Padres y Rendimiento',\n",
    "    labels={'value': 'Número de Estudiantes', 'Father Degree': 'Nivel Educativo de los Padres'},\n",
    ")\n",
    "\n",
    "# Gráfico 5: Relación entre edad del estudiante y promedio general\n",
    "fig_dispersion = px.scatter(\n",
    "    data,\n",
    "    x='Student Age',\n",
    "    y='Average_Grade',\n",
    "    title='Relación entre Edad del Estudiante y Promedio General',\n",
    "    labels={'Student Age': 'Edad del Estudiante', 'Average_Grade': 'Promedio General'},\n",
    ")\n",
    "\n",
    "# Crear la app Dash\n",
    "app = dash.Dash(__name__)\n",
    "\n",
    "# Diseño del dashboard\n",
    "app.layout = html.Div([\n",
    "    html.H1('Dashboard Informativo de Rendimiento Estudiantil', style={'text-align': 'center'}),\n",
    "    \n",
    "    html.Div([\n",
    "        html.H2('Descripción General'),\n",
    "        dcc.Graph(figure=fig_rendimiento),\n",
    "    ]),\n",
    "\n",
    "    html.Div([\n",
    "        html.H2('Análisis de Calificaciones'),\n",
    "        dcc.Graph(figure=fig_boxplot),\n",
    "        dcc.Graph(figure=fig_histograma),\n",
    "    ]),\n",
    "\n",
    "    html.Div([\n",
    "        html.H2('Factores Relacionados con el Rendimiento'),\n",
    "        dcc.Graph(figure=fig_rendimiento_padres),\n",
    "        dcc.Graph(figure=fig_dispersion),\n",
    "    ]),\n",
    "])\n",
    "\n",
    "# Ejecutar el servidor\n",
    "if __name__ == '__main__':\n",
    "    app.run_server(debug=True)\n"
   ]
  }
 ],
 "metadata": {
  "kernelspec": {
   "display_name": "Python 3",
   "language": "python",
   "name": "python3"
  },
  "language_info": {
   "codemirror_mode": {
    "name": "ipython",
    "version": 3
   },
   "file_extension": ".py",
   "mimetype": "text/x-python",
   "name": "python",
   "nbconvert_exporter": "python",
   "pygments_lexer": "ipython3",
   "version": "3.12.5"
  }
 },
 "nbformat": 4,
 "nbformat_minor": 2
}
